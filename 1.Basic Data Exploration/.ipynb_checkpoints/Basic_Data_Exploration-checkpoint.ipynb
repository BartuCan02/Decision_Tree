{
 "cells": [
  {
   "cell_type": "code",
   "execution_count": 1,
   "id": "8eca3705-2855-45be-9b4d-cce29fddc6c8",
   "metadata": {},
   "outputs": [],
   "source": [
    "import pandas as pd"
   ]
  },
  {
   "cell_type": "code",
   "execution_count": 2,
   "id": "e3fcefe5-19e1-4600-bb56-67036f726ce9",
   "metadata": {},
   "outputs": [],
   "source": [
    "melbourne_file_path = '../input/melbourne-housing-snapshot/melb_data.csv'"
   ]
  }
 ],
 "metadata": {
  "kernelspec": {
   "display_name": "Python 3 (ipykernel)",
   "language": "python",
   "name": "python3"
  },
  "language_info": {
   "codemirror_mode": {
    "name": "ipython",
    "version": 3
   },
   "file_extension": ".py",
   "mimetype": "text/x-python",
   "name": "python",
   "nbconvert_exporter": "python",
   "pygments_lexer": "ipython3",
   "version": "3.11.5"
  }
 },
 "nbformat": 4,
 "nbformat_minor": 5
}
